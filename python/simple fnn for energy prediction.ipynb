{
 "cells": [
  {
   "cell_type": "code",
   "execution_count": 3,
   "id": "afae8b14-005d-4b15-807a-d84224e55d41",
   "metadata": {
    "scrolled": true
   },
   "outputs": [
    {
     "name": "stdout",
     "output_type": "stream",
     "text": [
      "Requirement already satisfied: tensorflow in c:\\users\\mahak\\anaconda3\\lib\\site-packages (2.18.0)\n",
      "Requirement already satisfied: tensorflow-intel==2.18.0 in c:\\users\\mahak\\anaconda3\\lib\\site-packages (from tensorflow) (2.18.0)\n",
      "Requirement already satisfied: absl-py>=1.0.0 in c:\\users\\mahak\\anaconda3\\lib\\site-packages (from tensorflow-intel==2.18.0->tensorflow) (2.1.0)\n",
      "Requirement already satisfied: astunparse>=1.6.0 in c:\\users\\mahak\\anaconda3\\lib\\site-packages (from tensorflow-intel==2.18.0->tensorflow) (1.6.3)\n",
      "Requirement already satisfied: flatbuffers>=24.3.25 in c:\\users\\mahak\\anaconda3\\lib\\site-packages (from tensorflow-intel==2.18.0->tensorflow) (24.12.23)\n",
      "Requirement already satisfied: gast!=0.5.0,!=0.5.1,!=0.5.2,>=0.2.1 in c:\\users\\mahak\\anaconda3\\lib\\site-packages (from tensorflow-intel==2.18.0->tensorflow) (0.6.0)\n",
      "Requirement already satisfied: google-pasta>=0.1.1 in c:\\users\\mahak\\anaconda3\\lib\\site-packages (from tensorflow-intel==2.18.0->tensorflow) (0.2.0)\n",
      "Requirement already satisfied: libclang>=13.0.0 in c:\\users\\mahak\\anaconda3\\lib\\site-packages (from tensorflow-intel==2.18.0->tensorflow) (18.1.1)\n",
      "Requirement already satisfied: opt-einsum>=2.3.2 in c:\\users\\mahak\\anaconda3\\lib\\site-packages (from tensorflow-intel==2.18.0->tensorflow) (3.4.0)\n",
      "Requirement already satisfied: packaging in c:\\users\\mahak\\anaconda3\\lib\\site-packages (from tensorflow-intel==2.18.0->tensorflow) (24.1)\n",
      "Requirement already satisfied: protobuf!=4.21.0,!=4.21.1,!=4.21.2,!=4.21.3,!=4.21.4,!=4.21.5,<6.0.0dev,>=3.20.3 in c:\\users\\mahak\\anaconda3\\lib\\site-packages (from tensorflow-intel==2.18.0->tensorflow) (4.25.3)\n",
      "Requirement already satisfied: requests<3,>=2.21.0 in c:\\users\\mahak\\anaconda3\\lib\\site-packages (from tensorflow-intel==2.18.0->tensorflow) (2.32.3)\n",
      "Requirement already satisfied: setuptools in c:\\users\\mahak\\anaconda3\\lib\\site-packages (from tensorflow-intel==2.18.0->tensorflow) (75.1.0)\n",
      "Requirement already satisfied: six>=1.12.0 in c:\\users\\mahak\\anaconda3\\lib\\site-packages (from tensorflow-intel==2.18.0->tensorflow) (1.16.0)\n",
      "Requirement already satisfied: termcolor>=1.1.0 in c:\\users\\mahak\\anaconda3\\lib\\site-packages (from tensorflow-intel==2.18.0->tensorflow) (2.5.0)\n",
      "Requirement already satisfied: typing-extensions>=3.6.6 in c:\\users\\mahak\\anaconda3\\lib\\site-packages (from tensorflow-intel==2.18.0->tensorflow) (4.11.0)\n",
      "Requirement already satisfied: wrapt>=1.11.0 in c:\\users\\mahak\\anaconda3\\lib\\site-packages (from tensorflow-intel==2.18.0->tensorflow) (1.14.1)\n",
      "Requirement already satisfied: grpcio<2.0,>=1.24.3 in c:\\users\\mahak\\anaconda3\\lib\\site-packages (from tensorflow-intel==2.18.0->tensorflow) (1.69.0)\n",
      "Requirement already satisfied: tensorboard<2.19,>=2.18 in c:\\users\\mahak\\anaconda3\\lib\\site-packages (from tensorflow-intel==2.18.0->tensorflow) (2.18.0)\n",
      "Requirement already satisfied: keras>=3.5.0 in c:\\users\\mahak\\anaconda3\\lib\\site-packages (from tensorflow-intel==2.18.0->tensorflow) (3.8.0)\n",
      "Requirement already satisfied: numpy<2.1.0,>=1.26.0 in c:\\users\\mahak\\anaconda3\\lib\\site-packages (from tensorflow-intel==2.18.0->tensorflow) (1.26.4)\n",
      "Requirement already satisfied: h5py>=3.11.0 in c:\\users\\mahak\\anaconda3\\lib\\site-packages (from tensorflow-intel==2.18.0->tensorflow) (3.11.0)\n",
      "Requirement already satisfied: ml-dtypes<0.5.0,>=0.4.0 in c:\\users\\mahak\\anaconda3\\lib\\site-packages (from tensorflow-intel==2.18.0->tensorflow) (0.4.1)\n",
      "Requirement already satisfied: wheel<1.0,>=0.23.0 in c:\\users\\mahak\\anaconda3\\lib\\site-packages (from astunparse>=1.6.0->tensorflow-intel==2.18.0->tensorflow) (0.44.0)\n",
      "Requirement already satisfied: rich in c:\\users\\mahak\\anaconda3\\lib\\site-packages (from keras>=3.5.0->tensorflow-intel==2.18.0->tensorflow) (13.7.1)\n",
      "Requirement already satisfied: namex in c:\\users\\mahak\\anaconda3\\lib\\site-packages (from keras>=3.5.0->tensorflow-intel==2.18.0->tensorflow) (0.0.8)\n",
      "Requirement already satisfied: optree in c:\\users\\mahak\\anaconda3\\lib\\site-packages (from keras>=3.5.0->tensorflow-intel==2.18.0->tensorflow) (0.13.1)\n",
      "Requirement already satisfied: charset-normalizer<4,>=2 in c:\\users\\mahak\\anaconda3\\lib\\site-packages (from requests<3,>=2.21.0->tensorflow-intel==2.18.0->tensorflow) (3.3.2)\n",
      "Requirement already satisfied: idna<4,>=2.5 in c:\\users\\mahak\\anaconda3\\lib\\site-packages (from requests<3,>=2.21.0->tensorflow-intel==2.18.0->tensorflow) (3.7)\n",
      "Requirement already satisfied: urllib3<3,>=1.21.1 in c:\\users\\mahak\\anaconda3\\lib\\site-packages (from requests<3,>=2.21.0->tensorflow-intel==2.18.0->tensorflow) (2.2.3)\n",
      "Requirement already satisfied: certifi>=2017.4.17 in c:\\users\\mahak\\anaconda3\\lib\\site-packages (from requests<3,>=2.21.0->tensorflow-intel==2.18.0->tensorflow) (2024.12.14)\n",
      "Requirement already satisfied: markdown>=2.6.8 in c:\\users\\mahak\\anaconda3\\lib\\site-packages (from tensorboard<2.19,>=2.18->tensorflow-intel==2.18.0->tensorflow) (3.4.1)\n",
      "Requirement already satisfied: tensorboard-data-server<0.8.0,>=0.7.0 in c:\\users\\mahak\\anaconda3\\lib\\site-packages (from tensorboard<2.19,>=2.18->tensorflow-intel==2.18.0->tensorflow) (0.7.2)\n",
      "Requirement already satisfied: werkzeug>=1.0.1 in c:\\users\\mahak\\anaconda3\\lib\\site-packages (from tensorboard<2.19,>=2.18->tensorflow-intel==2.18.0->tensorflow) (3.0.3)\n",
      "Requirement already satisfied: MarkupSafe>=2.1.1 in c:\\users\\mahak\\anaconda3\\lib\\site-packages (from werkzeug>=1.0.1->tensorboard<2.19,>=2.18->tensorflow-intel==2.18.0->tensorflow) (2.1.3)\n",
      "Requirement already satisfied: markdown-it-py>=2.2.0 in c:\\users\\mahak\\anaconda3\\lib\\site-packages (from rich->keras>=3.5.0->tensorflow-intel==2.18.0->tensorflow) (2.2.0)\n",
      "Requirement already satisfied: pygments<3.0.0,>=2.13.0 in c:\\users\\mahak\\anaconda3\\lib\\site-packages (from rich->keras>=3.5.0->tensorflow-intel==2.18.0->tensorflow) (2.15.1)\n",
      "Requirement already satisfied: mdurl~=0.1 in c:\\users\\mahak\\anaconda3\\lib\\site-packages (from markdown-it-py>=2.2.0->rich->keras>=3.5.0->tensorflow-intel==2.18.0->tensorflow) (0.1.0)\n",
      "Note: you may need to restart the kernel to use updated packages.\n"
     ]
    }
   ],
   "source": [
    "pip install tensorflow"
   ]
  },
  {
   "cell_type": "code",
   "execution_count": 20,
   "id": "acb85f2f-5491-429b-ba49-98157b0392bb",
   "metadata": {},
   "outputs": [],
   "source": [
    "import pandas as pd\n",
    "import numpy as np\n",
    "import matplotlib.pyplot as plt\n",
    "\n",
    "from sklearn.model_selection import train_test_split\n",
    "from sklearn.preprocessing import StandardScaler\n",
    "\n",
    "from tensorflow.keras.models import Sequential\n",
    "from tensorflow.keras.layers import Dense"
   ]
  },
  {
   "cell_type": "code",
   "execution_count": 21,
   "id": "674cc29f-8cce-4fe1-8a02-3d653901b38d",
   "metadata": {},
   "outputs": [
    {
     "data": {
      "text/html": [
       "<div>\n",
       "<style scoped>\n",
       "    .dataframe tbody tr th:only-of-type {\n",
       "        vertical-align: middle;\n",
       "    }\n",
       "\n",
       "    .dataframe tbody tr th {\n",
       "        vertical-align: top;\n",
       "    }\n",
       "\n",
       "    .dataframe thead th {\n",
       "        text-align: right;\n",
       "    }\n",
       "</style>\n",
       "<table border=\"1\" class=\"dataframe\">\n",
       "  <thead>\n",
       "    <tr style=\"text-align: right;\">\n",
       "      <th></th>\n",
       "      <th>temperature</th>\n",
       "      <th>humidity</th>\n",
       "      <th>wind_speed</th>\n",
       "      <th>solar_irradiance</th>\n",
       "      <th>energy_consumption</th>\n",
       "    </tr>\n",
       "  </thead>\n",
       "  <tbody>\n",
       "    <tr>\n",
       "      <th>0</th>\n",
       "      <td>24.363503</td>\n",
       "      <td>31.107976</td>\n",
       "      <td>5.234114</td>\n",
       "      <td>705.432695</td>\n",
       "      <td>307.398145</td>\n",
       "    </tr>\n",
       "    <tr>\n",
       "      <th>1</th>\n",
       "      <td>38.767858</td>\n",
       "      <td>52.514057</td>\n",
       "      <td>4.939576</td>\n",
       "      <td>817.013257</td>\n",
       "      <td>412.444548</td>\n",
       "    </tr>\n",
       "    <tr>\n",
       "      <th>2</th>\n",
       "      <td>33.299849</td>\n",
       "      <td>72.376750</td>\n",
       "      <td>18.125092</td>\n",
       "      <td>325.421109</td>\n",
       "      <td>392.072418</td>\n",
       "    </tr>\n",
       "    <tr>\n",
       "      <th>3</th>\n",
       "      <td>29.966462</td>\n",
       "      <td>63.933493</td>\n",
       "      <td>4.990924</td>\n",
       "      <td>662.386690</td>\n",
       "      <td>119.254957</td>\n",
       "    </tr>\n",
       "    <tr>\n",
       "      <th>4</th>\n",
       "      <td>18.900466</td>\n",
       "      <td>68.393669</td>\n",
       "      <td>5.438995</td>\n",
       "      <td>614.571385</td>\n",
       "      <td>117.162261</td>\n",
       "    </tr>\n",
       "  </tbody>\n",
       "</table>\n",
       "</div>"
      ],
      "text/plain": [
       "   temperature   humidity  wind_speed  solar_irradiance  energy_consumption\n",
       "0    24.363503  31.107976    5.234114        705.432695          307.398145\n",
       "1    38.767858  52.514057    4.939576        817.013257          412.444548\n",
       "2    33.299849  72.376750   18.125092        325.421109          392.072418\n",
       "3    29.966462  63.933493    4.990924        662.386690          119.254957\n",
       "4    18.900466  68.393669    5.438995        614.571385          117.162261"
      ]
     },
     "execution_count": 21,
     "metadata": {},
     "output_type": "execute_result"
    }
   ],
   "source": [
    "data = pd.read_csv('ec_data_prediction.csv')\n",
    "data.head()"
   ]
  },
  {
   "cell_type": "code",
   "execution_count": 22,
   "id": "8ce39f06-2114-49b0-a10c-df16403a184f",
   "metadata": {},
   "outputs": [
    {
     "data": {
      "text/plain": [
       "temperature           0\n",
       "humidity              0\n",
       "wind_speed            0\n",
       "solar_irradiance      0\n",
       "energy_consumption    0\n",
       "dtype: int64"
      ]
     },
     "execution_count": 22,
     "metadata": {},
     "output_type": "execute_result"
    }
   ],
   "source": [
    "data.isnull().sum()"
   ]
  },
  {
   "cell_type": "code",
   "execution_count": 23,
   "id": "28a7d00d-d89e-4d29-af3c-d58f8ef68e1a",
   "metadata": {},
   "outputs": [],
   "source": [
    "X = data[['temperature','humidity','wind_speed','solar_irradiance']].values\n",
    "y = data['energy_consumption'].values"
   ]
  },
  {
   "cell_type": "code",
   "execution_count": 28,
   "id": "47418805-603c-4db2-889f-8d87b82bee17",
   "metadata": {},
   "outputs": [],
   "source": [
    "X_train, X_test, y_train, y_test = train_test_split(X, y, test_size=0.2, random_state=42)"
   ]
  },
  {
   "cell_type": "code",
   "execution_count": 9,
   "id": "d9f0623d-0ca2-418b-98ef-4562b248ae3d",
   "metadata": {},
   "outputs": [],
   "source": [
    "scaler = StandardScaler()\n",
    "X_train = scaler.fit_transform(X_train)\n",
    "x_test = scaler.transform(X_test)"
   ]
  },
  {
   "cell_type": "code",
   "execution_count": 10,
   "id": "ff93ec91-e3c1-4812-886a-93bc1505c9a0",
   "metadata": {},
   "outputs": [
    {
     "name": "stderr",
     "output_type": "stream",
     "text": [
      "C:\\Users\\mahak\\anaconda3\\Lib\\site-packages\\keras\\src\\layers\\core\\dense.py:87: UserWarning: Do not pass an `input_shape`/`input_dim` argument to a layer. When using Sequential models, prefer using an `Input(shape)` object as the first layer in the model instead.\n",
      "  super().__init__(activity_regularizer=activity_regularizer, **kwargs)\n"
     ]
    }
   ],
   "source": [
    "#building the model\n",
    "model = Sequential([\n",
    "    Dense(64, activation='relu', input_shape=(X_train.shape[1],)),  # Input layer with 64 neurons\n",
    "    Dense(32, activation='relu'),  # Hidden layer with 32 neurons\n",
    "    Dense(1)  # Output layer for regression (1 neuron)\n",
    "])"
   ]
  },
  {
   "cell_type": "code",
   "execution_count": 40,
   "id": "dbc25a52-c729-4f7d-ac45-c2f00941ca77",
   "metadata": {},
   "outputs": [
    {
     "name": "stderr",
     "output_type": "stream",
     "text": [
      "C:\\Users\\mahak\\anaconda3\\Lib\\site-packages\\keras\\src\\layers\\core\\dense.py:87: UserWarning: Do not pass an `input_shape`/`input_dim` argument to a layer. When using Sequential models, prefer using an `Input(shape)` object as the first layer in the model instead.\n",
      "  super().__init__(activity_regularizer=activity_regularizer, **kwargs)\n"
     ]
    }
   ],
   "source": [
    "model2 = Sequential([\n",
    "    Dense(128, activation='relu', input_shape=(X_train.shape[1],)),  # Input layer with 64 neurons\n",
    "    Dense(64, activation='relu'),  # Hidden layer with 32 neurons\n",
    "    Dense(32, activation='relu'),  # Hidden layer with 32 neurons\n",
    "    Dense(1)  # Output layer for regression (1 neuron)\n",
    "])"
   ]
  },
  {
   "cell_type": "code",
   "execution_count": 12,
   "id": "8c278151-0757-4b5a-b8ea-33b9b7659406",
   "metadata": {},
   "outputs": [],
   "source": [
    "model.compile(optimizer='adam', loss='mse', metrics=['mae'])\n",
    "#mean sqaured error and mean absolute error"
   ]
  },
  {
   "cell_type": "code",
   "execution_count": 42,
   "id": "937fc4a6-9295-4130-bdc0-58b81536bf7b",
   "metadata": {},
   "outputs": [],
   "source": [
    "model2.compile(optimizer='adam', loss='mse', metrics=['mae'])"
   ]
  },
  {
   "cell_type": "code",
   "execution_count": 13,
   "id": "48645302-9e81-4141-b751-0d410fcc55a0",
   "metadata": {
    "scrolled": true
   },
   "outputs": [
    {
     "name": "stdout",
     "output_type": "stream",
     "text": [
      "Epoch 1/50\n",
      "\u001b[1m20/20\u001b[0m \u001b[32m━━━━━━━━━━━━━━━━━━━━\u001b[0m\u001b[37m\u001b[0m \u001b[1m3s\u001b[0m 25ms/step - loss: 92875.1719 - mae: 277.1897 - val_loss: 83514.5156 - val_mae: 258.6612\n",
      "Epoch 2/50\n",
      "\u001b[1m20/20\u001b[0m \u001b[32m━━━━━━━━━━━━━━━━━━━━\u001b[0m\u001b[37m\u001b[0m \u001b[1m0s\u001b[0m 10ms/step - loss: 94620.4375 - mae: 277.9881 - val_loss: 82902.9922 - val_mae: 257.4716\n",
      "Epoch 3/50\n",
      "\u001b[1m20/20\u001b[0m \u001b[32m━━━━━━━━━━━━━━━━━━━━\u001b[0m\u001b[37m\u001b[0m \u001b[1m0s\u001b[0m 10ms/step - loss: 91635.7734 - mae: 274.9116 - val_loss: 81940.3281 - val_mae: 255.5870\n",
      "Epoch 4/50\n",
      "\u001b[1m20/20\u001b[0m \u001b[32m━━━━━━━━━━━━━━━━━━━━\u001b[0m\u001b[37m\u001b[0m \u001b[1m0s\u001b[0m 9ms/step - loss: 83115.1484 - mae: 258.0250 - val_loss: 80417.2266 - val_mae: 252.5747\n",
      "Epoch 5/50\n",
      "\u001b[1m20/20\u001b[0m \u001b[32m━━━━━━━━━━━━━━━━━━━━\u001b[0m\u001b[37m\u001b[0m \u001b[1m0s\u001b[0m 9ms/step - loss: 85389.2578 - mae: 263.1810 - val_loss: 78104.8281 - val_mae: 247.9347\n",
      "Epoch 6/50\n",
      "\u001b[1m20/20\u001b[0m \u001b[32m━━━━━━━━━━━━━━━━━━━━\u001b[0m\u001b[37m\u001b[0m \u001b[1m0s\u001b[0m 9ms/step - loss: 81470.9375 - mae: 254.1996 - val_loss: 74853.2812 - val_mae: 241.2463\n",
      "Epoch 7/50\n",
      "\u001b[1m20/20\u001b[0m \u001b[32m━━━━━━━━━━━━━━━━━━━━\u001b[0m\u001b[37m\u001b[0m \u001b[1m0s\u001b[0m 10ms/step - loss: 79655.1953 - mae: 251.3474 - val_loss: 70545.1719 - val_mae: 232.0876\n",
      "Epoch 8/50\n",
      "\u001b[1m20/20\u001b[0m \u001b[32m━━━━━━━━━━━━━━━━━━━━\u001b[0m\u001b[37m\u001b[0m \u001b[1m0s\u001b[0m 9ms/step - loss: 72571.6797 - mae: 238.4068 - val_loss: 65105.0547 - val_mae: 219.9590\n",
      "Epoch 9/50\n",
      "\u001b[1m20/20\u001b[0m \u001b[32m━━━━━━━━━━━━━━━━━━━━\u001b[0m\u001b[37m\u001b[0m \u001b[1m0s\u001b[0m 9ms/step - loss: 67048.0469 - mae: 222.4314 - val_loss: 58616.7188 - val_mae: 204.9724\n",
      "Epoch 10/50\n",
      "\u001b[1m20/20\u001b[0m \u001b[32m━━━━━━━━━━━━━━━━━━━━\u001b[0m\u001b[37m\u001b[0m \u001b[1m0s\u001b[0m 9ms/step - loss: 62082.7695 - mae: 212.7991 - val_loss: 51344.2109 - val_mae: 187.6642\n",
      "Epoch 11/50\n",
      "\u001b[1m20/20\u001b[0m \u001b[32m━━━━━━━━━━━━━━━━━━━━\u001b[0m\u001b[37m\u001b[0m \u001b[1m0s\u001b[0m 8ms/step - loss: 55534.4727 - mae: 198.8069 - val_loss: 43715.8828 - val_mae: 170.5549\n",
      "Epoch 12/50\n",
      "\u001b[1m20/20\u001b[0m \u001b[32m━━━━━━━━━━━━━━━━━━━━\u001b[0m\u001b[37m\u001b[0m \u001b[1m0s\u001b[0m 9ms/step - loss: 45555.9727 - mae: 175.1047 - val_loss: 36410.0508 - val_mae: 153.7377\n",
      "Epoch 13/50\n",
      "\u001b[1m20/20\u001b[0m \u001b[32m━━━━━━━━━━━━━━━━━━━━\u001b[0m\u001b[37m\u001b[0m \u001b[1m0s\u001b[0m 10ms/step - loss: 35732.3867 - mae: 151.2255 - val_loss: 30062.3555 - val_mae: 139.0051\n",
      "Epoch 14/50\n",
      "\u001b[1m20/20\u001b[0m \u001b[32m━━━━━━━━━━━━━━━━━━━━\u001b[0m\u001b[37m\u001b[0m \u001b[1m0s\u001b[0m 9ms/step - loss: 32204.2734 - mae: 146.1876 - val_loss: 24864.5898 - val_mae: 126.9988\n",
      "Epoch 15/50\n",
      "\u001b[1m20/20\u001b[0m \u001b[32m━━━━━━━━━━━━━━━━━━━━\u001b[0m\u001b[37m\u001b[0m \u001b[1m0s\u001b[0m 10ms/step - loss: 26779.9336 - mae: 134.8782 - val_loss: 21359.6992 - val_mae: 119.9133\n",
      "Epoch 16/50\n",
      "\u001b[1m20/20\u001b[0m \u001b[32m━━━━━━━━━━━━━━━━━━━━\u001b[0m\u001b[37m\u001b[0m \u001b[1m0s\u001b[0m 14ms/step - loss: 21746.2559 - mae: 122.9133 - val_loss: 19449.1250 - val_mae: 116.7325\n",
      "Epoch 17/50\n",
      "\u001b[1m20/20\u001b[0m \u001b[32m━━━━━━━━━━━━━━━━━━━━\u001b[0m\u001b[37m\u001b[0m \u001b[1m0s\u001b[0m 9ms/step - loss: 19192.8125 - mae: 118.4147 - val_loss: 18550.0586 - val_mae: 115.4219\n",
      "Epoch 18/50\n",
      "\u001b[1m20/20\u001b[0m \u001b[32m━━━━━━━━━━━━━━━━━━━━\u001b[0m\u001b[37m\u001b[0m \u001b[1m0s\u001b[0m 9ms/step - loss: 18564.9531 - mae: 116.9102 - val_loss: 18274.1309 - val_mae: 115.2662\n",
      "Epoch 19/50\n",
      "\u001b[1m20/20\u001b[0m \u001b[32m━━━━━━━━━━━━━━━━━━━━\u001b[0m\u001b[37m\u001b[0m \u001b[1m0s\u001b[0m 9ms/step - loss: 18345.3203 - mae: 115.7683 - val_loss: 18212.8242 - val_mae: 115.2318\n",
      "Epoch 20/50\n",
      "\u001b[1m20/20\u001b[0m \u001b[32m━━━━━━━━━━━━━━━━━━━━\u001b[0m\u001b[37m\u001b[0m \u001b[1m0s\u001b[0m 10ms/step - loss: 18263.5625 - mae: 117.1456 - val_loss: 18241.4238 - val_mae: 115.4603\n",
      "Epoch 21/50\n",
      "\u001b[1m20/20\u001b[0m \u001b[32m━━━━━━━━━━━━━━━━━━━━\u001b[0m\u001b[37m\u001b[0m \u001b[1m0s\u001b[0m 9ms/step - loss: 17327.5840 - mae: 114.1595 - val_loss: 18293.0117 - val_mae: 115.7335\n",
      "Epoch 22/50\n",
      "\u001b[1m20/20\u001b[0m \u001b[32m━━━━━━━━━━━━━━━━━━━━\u001b[0m\u001b[37m\u001b[0m \u001b[1m0s\u001b[0m 13ms/step - loss: 16775.9199 - mae: 112.7007 - val_loss: 18327.0059 - val_mae: 115.8979\n",
      "Epoch 23/50\n",
      "\u001b[1m20/20\u001b[0m \u001b[32m━━━━━━━━━━━━━━━━━━━━\u001b[0m\u001b[37m\u001b[0m \u001b[1m0s\u001b[0m 9ms/step - loss: 17177.0801 - mae: 113.3993 - val_loss: 18323.2871 - val_mae: 115.9726\n",
      "Epoch 24/50\n",
      "\u001b[1m20/20\u001b[0m \u001b[32m━━━━━━━━━━━━━━━━━━━━\u001b[0m\u001b[37m\u001b[0m \u001b[1m0s\u001b[0m 9ms/step - loss: 17377.5977 - mae: 114.8383 - val_loss: 18333.1855 - val_mae: 116.0440\n",
      "Epoch 25/50\n",
      "\u001b[1m20/20\u001b[0m \u001b[32m━━━━━━━━━━━━━━━━━━━━\u001b[0m\u001b[37m\u001b[0m \u001b[1m0s\u001b[0m 11ms/step - loss: 18625.4785 - mae: 120.3145 - val_loss: 18290.2832 - val_mae: 115.8881\n",
      "Epoch 26/50\n",
      "\u001b[1m20/20\u001b[0m \u001b[32m━━━━━━━━━━━━━━━━━━━━\u001b[0m\u001b[37m\u001b[0m \u001b[1m0s\u001b[0m 11ms/step - loss: 18149.3848 - mae: 117.7895 - val_loss: 18279.4570 - val_mae: 115.8183\n",
      "Epoch 27/50\n",
      "\u001b[1m20/20\u001b[0m \u001b[32m━━━━━━━━━━━━━━━━━━━━\u001b[0m\u001b[37m\u001b[0m \u001b[1m0s\u001b[0m 9ms/step - loss: 17573.1055 - mae: 113.8963 - val_loss: 18252.6133 - val_mae: 115.8543\n",
      "Epoch 28/50\n",
      "\u001b[1m20/20\u001b[0m \u001b[32m━━━━━━━━━━━━━━━━━━━━\u001b[0m\u001b[37m\u001b[0m \u001b[1m0s\u001b[0m 11ms/step - loss: 17648.9570 - mae: 115.8397 - val_loss: 18287.7988 - val_mae: 115.9653\n",
      "Epoch 29/50\n",
      "\u001b[1m20/20\u001b[0m \u001b[32m━━━━━━━━━━━━━━━━━━━━\u001b[0m\u001b[37m\u001b[0m \u001b[1m0s\u001b[0m 9ms/step - loss: 16836.7910 - mae: 112.0849 - val_loss: 18245.8984 - val_mae: 115.8314\n",
      "Epoch 30/50\n",
      "\u001b[1m20/20\u001b[0m \u001b[32m━━━━━━━━━━━━━━━━━━━━\u001b[0m\u001b[37m\u001b[0m \u001b[1m0s\u001b[0m 9ms/step - loss: 17536.1016 - mae: 115.5637 - val_loss: 18283.2773 - val_mae: 115.9765\n",
      "Epoch 31/50\n",
      "\u001b[1m20/20\u001b[0m \u001b[32m━━━━━━━━━━━━━━━━━━━━\u001b[0m\u001b[37m\u001b[0m \u001b[1m0s\u001b[0m 9ms/step - loss: 18138.2383 - mae: 116.1098 - val_loss: 18251.8789 - val_mae: 115.8992\n",
      "Epoch 32/50\n",
      "\u001b[1m20/20\u001b[0m \u001b[32m━━━━━━━━━━━━━━━━━━━━\u001b[0m\u001b[37m\u001b[0m \u001b[1m0s\u001b[0m 9ms/step - loss: 17186.2266 - mae: 113.1191 - val_loss: 18277.9805 - val_mae: 115.9956\n",
      "Epoch 33/50\n",
      "\u001b[1m20/20\u001b[0m \u001b[32m━━━━━━━━━━━━━━━━━━━━\u001b[0m\u001b[37m\u001b[0m \u001b[1m0s\u001b[0m 11ms/step - loss: 16869.1484 - mae: 111.3157 - val_loss: 18247.5293 - val_mae: 115.8877\n",
      "Epoch 34/50\n",
      "\u001b[1m20/20\u001b[0m \u001b[32m━━━━━━━━━━━━━━━━━━━━\u001b[0m\u001b[37m\u001b[0m \u001b[1m0s\u001b[0m 13ms/step - loss: 16820.4785 - mae: 112.4463 - val_loss: 18249.0059 - val_mae: 115.9253\n",
      "Epoch 35/50\n",
      "\u001b[1m20/20\u001b[0m \u001b[32m━━━━━━━━━━━━━━━━━━━━\u001b[0m\u001b[37m\u001b[0m \u001b[1m0s\u001b[0m 9ms/step - loss: 17168.9766 - mae: 113.1917 - val_loss: 18225.5137 - val_mae: 115.8280\n",
      "Epoch 36/50\n",
      "\u001b[1m20/20\u001b[0m \u001b[32m━━━━━━━━━━━━━━━━━━━━\u001b[0m\u001b[37m\u001b[0m \u001b[1m0s\u001b[0m 15ms/step - loss: 17115.9062 - mae: 112.6472 - val_loss: 18243.7461 - val_mae: 115.9190\n",
      "Epoch 37/50\n",
      "\u001b[1m20/20\u001b[0m \u001b[32m━━━━━━━━━━━━━━━━━━━━\u001b[0m\u001b[37m\u001b[0m \u001b[1m0s\u001b[0m 8ms/step - loss: 17490.5762 - mae: 114.2159 - val_loss: 18231.1738 - val_mae: 115.8843\n",
      "Epoch 38/50\n",
      "\u001b[1m20/20\u001b[0m \u001b[32m━━━━━━━━━━━━━━━━━━━━\u001b[0m\u001b[37m\u001b[0m \u001b[1m0s\u001b[0m 8ms/step - loss: 17041.9766 - mae: 112.9534 - val_loss: 18299.5977 - val_mae: 116.1126\n",
      "Epoch 39/50\n",
      "\u001b[1m20/20\u001b[0m \u001b[32m━━━━━━━━━━━━━━━━━━━━\u001b[0m\u001b[37m\u001b[0m \u001b[1m0s\u001b[0m 7ms/step - loss: 17382.1953 - mae: 114.5519 - val_loss: 18252.0352 - val_mae: 115.9377\n",
      "Epoch 40/50\n",
      "\u001b[1m20/20\u001b[0m \u001b[32m━━━━━━━━━━━━━━━━━━━━\u001b[0m\u001b[37m\u001b[0m \u001b[1m0s\u001b[0m 7ms/step - loss: 17293.7480 - mae: 113.0272 - val_loss: 18242.7773 - val_mae: 115.9639\n",
      "Epoch 41/50\n",
      "\u001b[1m20/20\u001b[0m \u001b[32m━━━━━━━━━━━━━━━━━━━━\u001b[0m\u001b[37m\u001b[0m \u001b[1m0s\u001b[0m 8ms/step - loss: 17308.9609 - mae: 113.6216 - val_loss: 18256.3496 - val_mae: 116.0440\n",
      "Epoch 42/50\n",
      "\u001b[1m20/20\u001b[0m \u001b[32m━━━━━━━━━━━━━━━━━━━━\u001b[0m\u001b[37m\u001b[0m \u001b[1m0s\u001b[0m 7ms/step - loss: 16471.2246 - mae: 111.4042 - val_loss: 18230.1113 - val_mae: 115.9175\n",
      "Epoch 43/50\n",
      "\u001b[1m20/20\u001b[0m \u001b[32m━━━━━━━━━━━━━━━━━━━━\u001b[0m\u001b[37m\u001b[0m \u001b[1m0s\u001b[0m 8ms/step - loss: 16099.3994 - mae: 108.9157 - val_loss: 18223.1934 - val_mae: 115.9411\n",
      "Epoch 44/50\n",
      "\u001b[1m20/20\u001b[0m \u001b[32m━━━━━━━━━━━━━━━━━━━━\u001b[0m\u001b[37m\u001b[0m \u001b[1m0s\u001b[0m 15ms/step - loss: 18334.0254 - mae: 117.5083 - val_loss: 18196.1797 - val_mae: 115.8156\n",
      "Epoch 45/50\n",
      "\u001b[1m20/20\u001b[0m \u001b[32m━━━━━━━━━━━━━━━━━━━━\u001b[0m\u001b[37m\u001b[0m \u001b[1m0s\u001b[0m 9ms/step - loss: 16666.0117 - mae: 110.9698 - val_loss: 18197.2441 - val_mae: 115.8621\n",
      "Epoch 46/50\n",
      "\u001b[1m20/20\u001b[0m \u001b[32m━━━━━━━━━━━━━━━━━━━━\u001b[0m\u001b[37m\u001b[0m \u001b[1m0s\u001b[0m 11ms/step - loss: 17207.1719 - mae: 114.0703 - val_loss: 18252.2695 - val_mae: 116.0743\n",
      "Epoch 47/50\n",
      "\u001b[1m20/20\u001b[0m \u001b[32m━━━━━━━━━━━━━━━━━━━━\u001b[0m\u001b[37m\u001b[0m \u001b[1m1s\u001b[0m 7ms/step - loss: 16332.8418 - mae: 111.6806 - val_loss: 18190.3223 - val_mae: 115.9483\n",
      "Epoch 48/50\n",
      "\u001b[1m20/20\u001b[0m \u001b[32m━━━━━━━━━━━━━━━━━━━━\u001b[0m\u001b[37m\u001b[0m \u001b[1m0s\u001b[0m 8ms/step - loss: 15799.0479 - mae: 108.8793 - val_loss: 18179.7129 - val_mae: 115.9293\n",
      "Epoch 49/50\n",
      "\u001b[1m20/20\u001b[0m \u001b[32m━━━━━━━━━━━━━━━━━━━━\u001b[0m\u001b[37m\u001b[0m \u001b[1m0s\u001b[0m 14ms/step - loss: 16950.8633 - mae: 112.8944 - val_loss: 18198.5430 - val_mae: 115.8990\n",
      "Epoch 50/50\n",
      "\u001b[1m20/20\u001b[0m \u001b[32m━━━━━━━━━━━━━━━━━━━━\u001b[0m\u001b[37m\u001b[0m \u001b[1m0s\u001b[0m 10ms/step - loss: 16851.3203 - mae: 112.6196 - val_loss: 18179.4004 - val_mae: 115.8312\n"
     ]
    }
   ],
   "source": [
    "history = model.fit(X_train, y_train, epochs=50, batch_size=32, validation_split=0.2, verbose=1)\n",
    "#epochs=no of times data is being trained\n",
    "#batch_size - samples ek sath train hoge\n",
    "#validation_split - optimize resukts to train the sample\n",
    "#verbose - check each iteration"
   ]
  },
  {
   "cell_type": "code",
   "execution_count": 44,
   "id": "4e59b27b-0213-4c6d-a161-29c9b40997e1",
   "metadata": {},
   "outputs": [
    {
     "name": "stdout",
     "output_type": "stream",
     "text": [
      "Epoch 1/50\n",
      "\u001b[1m20/20\u001b[0m \u001b[32m━━━━━━━━━━━━━━━━━━━━\u001b[0m\u001b[37m\u001b[0m \u001b[1m3s\u001b[0m 28ms/step - loss: 62450.4297 - mae: 213.3527 - val_loss: 32541.9883 - val_mae: 148.1570\n",
      "Epoch 2/50\n",
      "\u001b[1m20/20\u001b[0m \u001b[32m━━━━━━━━━━━━━━━━━━━━\u001b[0m\u001b[37m\u001b[0m \u001b[1m0s\u001b[0m 10ms/step - loss: 34550.4570 - mae: 152.6309 - val_loss: 24332.5801 - val_mae: 124.4902\n",
      "Epoch 3/50\n",
      "\u001b[1m20/20\u001b[0m \u001b[32m━━━━━━━━━━━━━━━━━━━━\u001b[0m\u001b[37m\u001b[0m \u001b[1m0s\u001b[0m 10ms/step - loss: 28590.6895 - mae: 141.2972 - val_loss: 22315.2344 - val_mae: 120.8811\n",
      "Epoch 4/50\n",
      "\u001b[1m20/20\u001b[0m \u001b[32m━━━━━━━━━━━━━━━━━━━━\u001b[0m\u001b[37m\u001b[0m \u001b[1m0s\u001b[0m 12ms/step - loss: 25051.3848 - mae: 133.6098 - val_loss: 20601.2441 - val_mae: 116.3037\n",
      "Epoch 5/50\n",
      "\u001b[1m20/20\u001b[0m \u001b[32m━━━━━━━━━━━━━━━━━━━━\u001b[0m\u001b[37m\u001b[0m \u001b[1m0s\u001b[0m 10ms/step - loss: 24049.6211 - mae: 129.1002 - val_loss: 18982.9375 - val_mae: 114.2144\n",
      "Epoch 6/50\n",
      "\u001b[1m20/20\u001b[0m \u001b[32m━━━━━━━━━━━━━━━━━━━━\u001b[0m\u001b[37m\u001b[0m \u001b[1m0s\u001b[0m 11ms/step - loss: 23244.9707 - mae: 130.9676 - val_loss: 18422.5020 - val_mae: 114.4436\n",
      "Epoch 7/50\n",
      "\u001b[1m20/20\u001b[0m \u001b[32m━━━━━━━━━━━━━━━━━━━━\u001b[0m\u001b[37m\u001b[0m \u001b[1m0s\u001b[0m 15ms/step - loss: 19295.6367 - mae: 120.0059 - val_loss: 18880.8398 - val_mae: 116.7141\n",
      "Epoch 8/50\n",
      "\u001b[1m20/20\u001b[0m \u001b[32m━━━━━━━━━━━━━━━━━━━━\u001b[0m\u001b[37m\u001b[0m \u001b[1m0s\u001b[0m 11ms/step - loss: 20296.8359 - mae: 122.2658 - val_loss: 18840.5586 - val_mae: 116.8959\n",
      "Epoch 9/50\n",
      "\u001b[1m20/20\u001b[0m \u001b[32m━━━━━━━━━━━━━━━━━━━━\u001b[0m\u001b[37m\u001b[0m \u001b[1m0s\u001b[0m 10ms/step - loss: 19946.8379 - mae: 120.3988 - val_loss: 18592.6133 - val_mae: 116.0248\n",
      "Epoch 10/50\n",
      "\u001b[1m20/20\u001b[0m \u001b[32m━━━━━━━━━━━━━━━━━━━━\u001b[0m\u001b[37m\u001b[0m \u001b[1m0s\u001b[0m 10ms/step - loss: 18651.5234 - mae: 116.0802 - val_loss: 18114.6211 - val_mae: 113.1206\n",
      "Epoch 11/50\n",
      "\u001b[1m20/20\u001b[0m \u001b[32m━━━━━━━━━━━━━━━━━━━━\u001b[0m\u001b[37m\u001b[0m \u001b[1m0s\u001b[0m 11ms/step - loss: 20216.4629 - mae: 123.3251 - val_loss: 18571.2871 - val_mae: 116.1656\n",
      "Epoch 12/50\n",
      "\u001b[1m20/20\u001b[0m \u001b[32m━━━━━━━━━━━━━━━━━━━━\u001b[0m\u001b[37m\u001b[0m \u001b[1m0s\u001b[0m 11ms/step - loss: 18160.8340 - mae: 114.8628 - val_loss: 18432.7422 - val_mae: 115.4910\n",
      "Epoch 13/50\n",
      "\u001b[1m20/20\u001b[0m \u001b[32m━━━━━━━━━━━━━━━━━━━━\u001b[0m\u001b[37m\u001b[0m \u001b[1m0s\u001b[0m 9ms/step - loss: 19143.1270 - mae: 118.4290 - val_loss: 18051.8887 - val_mae: 113.7658\n",
      "Epoch 14/50\n",
      "\u001b[1m20/20\u001b[0m \u001b[32m━━━━━━━━━━━━━━━━━━━━\u001b[0m\u001b[37m\u001b[0m \u001b[1m0s\u001b[0m 11ms/step - loss: 19306.9590 - mae: 118.6140 - val_loss: 18106.4219 - val_mae: 113.7983\n",
      "Epoch 15/50\n",
      "\u001b[1m20/20\u001b[0m \u001b[32m━━━━━━━━━━━━━━━━━━━━\u001b[0m\u001b[37m\u001b[0m \u001b[1m2s\u001b[0m 58ms/step - loss: 20152.8398 - mae: 121.0565 - val_loss: 18079.0059 - val_mae: 114.3619\n",
      "Epoch 16/50\n",
      "\u001b[1m20/20\u001b[0m \u001b[32m━━━━━━━━━━━━━━━━━━━━\u001b[0m\u001b[37m\u001b[0m \u001b[1m0s\u001b[0m 11ms/step - loss: 19415.1660 - mae: 118.6612 - val_loss: 18210.9316 - val_mae: 113.4753\n",
      "Epoch 17/50\n",
      "\u001b[1m20/20\u001b[0m \u001b[32m━━━━━━━━━━━━━━━━━━━━\u001b[0m\u001b[37m\u001b[0m \u001b[1m0s\u001b[0m 14ms/step - loss: 19509.2891 - mae: 118.4704 - val_loss: 17972.0332 - val_mae: 114.2685\n",
      "Epoch 18/50\n",
      "\u001b[1m20/20\u001b[0m \u001b[32m━━━━━━━━━━━━━━━━━━━━\u001b[0m\u001b[37m\u001b[0m \u001b[1m0s\u001b[0m 10ms/step - loss: 18310.7793 - mae: 115.0005 - val_loss: 18130.0078 - val_mae: 114.5477\n",
      "Epoch 19/50\n",
      "\u001b[1m20/20\u001b[0m \u001b[32m━━━━━━━━━━━━━━━━━━━━\u001b[0m\u001b[37m\u001b[0m \u001b[1m0s\u001b[0m 11ms/step - loss: 19143.8535 - mae: 119.9284 - val_loss: 18050.6055 - val_mae: 114.3796\n",
      "Epoch 20/50\n",
      "\u001b[1m20/20\u001b[0m \u001b[32m━━━━━━━━━━━━━━━━━━━━\u001b[0m\u001b[37m\u001b[0m \u001b[1m0s\u001b[0m 9ms/step - loss: 19328.1504 - mae: 118.2035 - val_loss: 17849.6680 - val_mae: 113.1610\n",
      "Epoch 21/50\n",
      "\u001b[1m20/20\u001b[0m \u001b[32m━━━━━━━━━━━━━━━━━━━━\u001b[0m\u001b[37m\u001b[0m \u001b[1m1s\u001b[0m 43ms/step - loss: 19600.4785 - mae: 120.3441 - val_loss: 18320.5605 - val_mae: 113.4868\n",
      "Epoch 22/50\n",
      "\u001b[1m20/20\u001b[0m \u001b[32m━━━━━━━━━━━━━━━━━━━━\u001b[0m\u001b[37m\u001b[0m \u001b[1m1s\u001b[0m 11ms/step - loss: 19558.3086 - mae: 119.0640 - val_loss: 17880.0508 - val_mae: 114.1834\n",
      "Epoch 23/50\n",
      "\u001b[1m20/20\u001b[0m \u001b[32m━━━━━━━━━━━━━━━━━━━━\u001b[0m\u001b[37m\u001b[0m \u001b[1m0s\u001b[0m 9ms/step - loss: 19253.2969 - mae: 119.8808 - val_loss: 17973.5918 - val_mae: 113.4570\n",
      "Epoch 24/50\n",
      "\u001b[1m20/20\u001b[0m \u001b[32m━━━━━━━━━━━━━━━━━━━━\u001b[0m\u001b[37m\u001b[0m \u001b[1m0s\u001b[0m 9ms/step - loss: 19331.1582 - mae: 120.5909 - val_loss: 18082.4883 - val_mae: 115.0463\n",
      "Epoch 25/50\n",
      "\u001b[1m20/20\u001b[0m \u001b[32m━━━━━━━━━━━━━━━━━━━━\u001b[0m\u001b[37m\u001b[0m \u001b[1m0s\u001b[0m 19ms/step - loss: 18287.1406 - mae: 116.0362 - val_loss: 18342.8477 - val_mae: 116.0279\n",
      "Epoch 26/50\n",
      "\u001b[1m20/20\u001b[0m \u001b[32m━━━━━━━━━━━━━━━━━━━━\u001b[0m\u001b[37m\u001b[0m \u001b[1m1s\u001b[0m 12ms/step - loss: 18986.7871 - mae: 118.8557 - val_loss: 19098.5410 - val_mae: 118.4454\n",
      "Epoch 27/50\n",
      "\u001b[1m20/20\u001b[0m \u001b[32m━━━━━━━━━━━━━━━━━━━━\u001b[0m\u001b[37m\u001b[0m \u001b[1m0s\u001b[0m 11ms/step - loss: 20310.4570 - mae: 123.3717 - val_loss: 18236.5430 - val_mae: 115.6391\n",
      "Epoch 28/50\n",
      "\u001b[1m20/20\u001b[0m \u001b[32m━━━━━━━━━━━━━━━━━━━━\u001b[0m\u001b[37m\u001b[0m \u001b[1m0s\u001b[0m 13ms/step - loss: 18133.9668 - mae: 114.6303 - val_loss: 17798.6094 - val_mae: 112.9547\n",
      "Epoch 29/50\n",
      "\u001b[1m20/20\u001b[0m \u001b[32m━━━━━━━━━━━━━━━━━━━━\u001b[0m\u001b[37m\u001b[0m \u001b[1m0s\u001b[0m 9ms/step - loss: 18251.0547 - mae: 117.1642 - val_loss: 17747.2852 - val_mae: 113.0171\n",
      "Epoch 30/50\n",
      "\u001b[1m20/20\u001b[0m \u001b[32m━━━━━━━━━━━━━━━━━━━━\u001b[0m\u001b[37m\u001b[0m \u001b[1m0s\u001b[0m 8ms/step - loss: 19203.8008 - mae: 119.1420 - val_loss: 17874.4238 - val_mae: 113.6271\n",
      "Epoch 31/50\n",
      "\u001b[1m20/20\u001b[0m \u001b[32m━━━━━━━━━━━━━━━━━━━━\u001b[0m\u001b[37m\u001b[0m \u001b[1m0s\u001b[0m 8ms/step - loss: 19147.3594 - mae: 119.4650 - val_loss: 18288.3203 - val_mae: 115.6910\n",
      "Epoch 32/50\n",
      "\u001b[1m20/20\u001b[0m \u001b[32m━━━━━━━━━━━━━━━━━━━━\u001b[0m\u001b[37m\u001b[0m \u001b[1m0s\u001b[0m 12ms/step - loss: 18461.4180 - mae: 115.1589 - val_loss: 17822.9473 - val_mae: 113.9113\n",
      "Epoch 33/50\n",
      "\u001b[1m20/20\u001b[0m \u001b[32m━━━━━━━━━━━━━━━━━━━━\u001b[0m\u001b[37m\u001b[0m \u001b[1m0s\u001b[0m 12ms/step - loss: 18117.0215 - mae: 116.5419 - val_loss: 17568.7852 - val_mae: 112.4883\n",
      "Epoch 34/50\n",
      "\u001b[1m20/20\u001b[0m \u001b[32m━━━━━━━━━━━━━━━━━━━━\u001b[0m\u001b[37m\u001b[0m \u001b[1m0s\u001b[0m 11ms/step - loss: 19617.7656 - mae: 120.0829 - val_loss: 17769.5273 - val_mae: 113.1464\n",
      "Epoch 35/50\n",
      "\u001b[1m20/20\u001b[0m \u001b[32m━━━━━━━━━━━━━━━━━━━━\u001b[0m\u001b[37m\u001b[0m \u001b[1m0s\u001b[0m 11ms/step - loss: 19550.2832 - mae: 119.9664 - val_loss: 18033.2539 - val_mae: 114.8594\n",
      "Epoch 36/50\n",
      "\u001b[1m20/20\u001b[0m \u001b[32m━━━━━━━━━━━━━━━━━━━━\u001b[0m\u001b[37m\u001b[0m \u001b[1m0s\u001b[0m 11ms/step - loss: 18131.2422 - mae: 114.2410 - val_loss: 18145.6914 - val_mae: 115.3952\n",
      "Epoch 37/50\n",
      "\u001b[1m20/20\u001b[0m \u001b[32m━━━━━━━━━━━━━━━━━━━━\u001b[0m\u001b[37m\u001b[0m \u001b[1m0s\u001b[0m 12ms/step - loss: 19131.8984 - mae: 118.0454 - val_loss: 18101.8457 - val_mae: 115.2866\n",
      "Epoch 38/50\n",
      "\u001b[1m20/20\u001b[0m \u001b[32m━━━━━━━━━━━━━━━━━━━━\u001b[0m\u001b[37m\u001b[0m \u001b[1m0s\u001b[0m 11ms/step - loss: 17987.9082 - mae: 114.9797 - val_loss: 18294.5039 - val_mae: 115.7837\n",
      "Epoch 39/50\n",
      "\u001b[1m20/20\u001b[0m \u001b[32m━━━━━━━━━━━━━━━━━━━━\u001b[0m\u001b[37m\u001b[0m \u001b[1m0s\u001b[0m 12ms/step - loss: 18427.6035 - mae: 116.7548 - val_loss: 17646.7344 - val_mae: 113.0818\n",
      "Epoch 40/50\n",
      "\u001b[1m20/20\u001b[0m \u001b[32m━━━━━━━━━━━━━━━━━━━━\u001b[0m\u001b[37m\u001b[0m \u001b[1m0s\u001b[0m 10ms/step - loss: 19791.6367 - mae: 122.4736 - val_loss: 17782.8672 - val_mae: 112.7716\n",
      "Epoch 41/50\n",
      "\u001b[1m20/20\u001b[0m \u001b[32m━━━━━━━━━━━━━━━━━━━━\u001b[0m\u001b[37m\u001b[0m \u001b[1m0s\u001b[0m 11ms/step - loss: 19194.2246 - mae: 119.0623 - val_loss: 17724.2441 - val_mae: 113.5883\n",
      "Epoch 42/50\n",
      "\u001b[1m20/20\u001b[0m \u001b[32m━━━━━━━━━━━━━━━━━━━━\u001b[0m\u001b[37m\u001b[0m \u001b[1m0s\u001b[0m 19ms/step - loss: 18447.7324 - mae: 116.8768 - val_loss: 17722.7148 - val_mae: 112.8821\n",
      "Epoch 43/50\n",
      "\u001b[1m20/20\u001b[0m \u001b[32m━━━━━━━━━━━━━━━━━━━━\u001b[0m\u001b[37m\u001b[0m \u001b[1m0s\u001b[0m 12ms/step - loss: 18929.8730 - mae: 117.8762 - val_loss: 17715.1328 - val_mae: 113.2716\n",
      "Epoch 44/50\n",
      "\u001b[1m20/20\u001b[0m \u001b[32m━━━━━━━━━━━━━━━━━━━━\u001b[0m\u001b[37m\u001b[0m \u001b[1m0s\u001b[0m 21ms/step - loss: 20098.9805 - mae: 121.5156 - val_loss: 18531.6289 - val_mae: 112.4247\n",
      "Epoch 45/50\n",
      "\u001b[1m20/20\u001b[0m \u001b[32m━━━━━━━━━━━━━━━━━━━━\u001b[0m\u001b[37m\u001b[0m \u001b[1m0s\u001b[0m 10ms/step - loss: 18666.1172 - mae: 115.8851 - val_loss: 17536.6523 - val_mae: 112.6182\n",
      "Epoch 46/50\n",
      "\u001b[1m20/20\u001b[0m \u001b[32m━━━━━━━━━━━━━━━━━━━━\u001b[0m\u001b[37m\u001b[0m \u001b[1m0s\u001b[0m 10ms/step - loss: 18271.9062 - mae: 115.8173 - val_loss: 18419.6406 - val_mae: 116.4731\n",
      "Epoch 47/50\n",
      "\u001b[1m20/20\u001b[0m \u001b[32m━━━━━━━━━━━━━━━━━━━━\u001b[0m\u001b[37m\u001b[0m \u001b[1m0s\u001b[0m 10ms/step - loss: 19412.2207 - mae: 118.9886 - val_loss: 17616.5586 - val_mae: 113.1733\n",
      "Epoch 48/50\n",
      "\u001b[1m20/20\u001b[0m \u001b[32m━━━━━━━━━━━━━━━━━━━━\u001b[0m\u001b[37m\u001b[0m \u001b[1m0s\u001b[0m 11ms/step - loss: 19905.0273 - mae: 121.3713 - val_loss: 18514.0820 - val_mae: 116.8956\n",
      "Epoch 49/50\n",
      "\u001b[1m20/20\u001b[0m \u001b[32m━━━━━━━━━━━━━━━━━━━━\u001b[0m\u001b[37m\u001b[0m \u001b[1m1s\u001b[0m 19ms/step - loss: 20158.3711 - mae: 121.0475 - val_loss: 17517.5977 - val_mae: 112.5285\n",
      "Epoch 50/50\n",
      "\u001b[1m20/20\u001b[0m \u001b[32m━━━━━━━━━━━━━━━━━━━━\u001b[0m\u001b[37m\u001b[0m \u001b[1m1s\u001b[0m 22ms/step - loss: 19322.9844 - mae: 119.6814 - val_loss: 17733.8066 - val_mae: 113.0048\n"
     ]
    }
   ],
   "source": [
    "history = model2.fit(X_train, y_train, epochs=50, batch_size=32, validation_split=0.2, verbose=1)"
   ]
  },
  {
   "cell_type": "code",
   "execution_count": 14,
   "id": "a6739275-e080-4ca5-9559-f9d4a6cc103c",
   "metadata": {
    "scrolled": true
   },
   "outputs": [
    {
     "name": "stdout",
     "output_type": "stream",
     "text": [
      "\u001b[1m7/7\u001b[0m \u001b[32m━━━━━━━━━━━━━━━━━━━━\u001b[0m\u001b[37m\u001b[0m \u001b[1m0s\u001b[0m 9ms/step - loss: 1951490176.0000 - mae: 40138.9102  \n",
      "Test Mean Absolute Error: 39597.73\n"
     ]
    }
   ],
   "source": [
    "test_loss, test_mae = model.evaluate(X_test, y_test, verbose=1)\n",
    "print(f\"Test Mean Absolute Error: {test_mae:.2f}\")"
   ]
  },
  {
   "cell_type": "code",
   "execution_count": 46,
   "id": "836382b8-0b8e-4d7d-a247-0b94c830946b",
   "metadata": {},
   "outputs": [
    {
     "name": "stdout",
     "output_type": "stream",
     "text": [
      "\u001b[1m7/7\u001b[0m \u001b[32m━━━━━━━━━━━━━━━━━━━━\u001b[0m\u001b[37m\u001b[0m \u001b[1m0s\u001b[0m 10ms/step - loss: 19552.4062 - mae: 119.6611 \n",
      "Test Mean Absolute Error: 119.51\n"
     ]
    }
   ],
   "source": [
    "test_loss, test_mae = model2.evaluate(X_test, y_test, verbose=1)\n",
    "print(f\"Test Mean Absolute Error: {test_mae:.2f}\")"
   ]
  },
  {
   "cell_type": "code",
   "execution_count": 48,
   "id": "443fd01a-1dc7-4d47-afae-f64faf3d219a",
   "metadata": {
    "scrolled": true
   },
   "outputs": [
    {
     "data": {
      "image/png": "[encoded data removed]",
      "text/plain": [
       "<Figure size 640x480 with 1 Axes>"
      ]
     },
     "metadata": {},
     "output_type": "display_data"
    }
   ],
   "source": [
    "plt.plot(history.history['loss'], label='Training Loss')\n",
    "plt.plot(history.history['val_loss'], label='Validation Loss')\n",
    "plt.xlabel('Epochs')\n",
    "plt.ylabel('Loss')\n",
    "plt.title('Model Training Performance')\n",
    "plt.legend()\n",
    "plt.show()"
   ]
  },
  {
   "cell_type": "code",
   "execution_count": 16,
   "id": "2df10d7a-30bc-419f-a225-d82306dc4ebd",
   "metadata": {},
   "outputs": [
    {
     "name": "stdout",
     "output_type": "stream",
     "text": [
      "\u001b[1m7/7\u001b[0m \u001b[32m━━━━━━━━━━━━━━━━━━━━\u001b[0m\u001b[37m\u001b[0m \u001b[1m0s\u001b[0m 21ms/step\n"
     ]
    },
    {
     "data": {
      "text/plain": [
       "array([[37636.367],\n",
       "       [55393.152],\n",
       "       [65494.305],\n",
       "       [40141.645],\n",
       "       [15568.455],\n",
       "       [58586.516],\n",
       "       [ 7446.759],\n",
       "       [59559.664],\n",
       "       [60984.938],\n",
       "       [55118.973],\n",
       "       [36797.473],\n",
       "       [67987.31 ],\n",
       "       [66400.06 ],\n",
       "       [52950.387],\n",
       "       [18472.117],\n",
       "       [61699.45 ],\n",
       "       [36270.074],\n",
       "       [21731.936],\n",
       "       [54642.19 ],\n",
       "       [56808.777],\n",
       "       [43471.605],\n",
       "       [12165.036],\n",
       "       [45542.465],\n",
       "       [56064.414],\n",
       "       [17682.207],\n",
       "       [22311.367],\n",
       "       [55533.395],\n",
       "       [13788.815],\n",
       "       [66179.984],\n",
       "       [45830.645],\n",
       "       [24681.46 ],\n",
       "       [12045.151],\n",
       "       [21432.31 ],\n",
       "       [54706.348],\n",
       "       [21789.477],\n",
       "       [14240.911],\n",
       "       [32250.656],\n",
       "       [33649.957],\n",
       "       [31598.557],\n",
       "       [68469.984],\n",
       "       [16554.754],\n",
       "       [69919.93 ],\n",
       "       [52938.453],\n",
       "       [24795.246],\n",
       "       [59072.824],\n",
       "       [38658.566],\n",
       "       [70999.34 ],\n",
       "       [43920.105],\n",
       "       [67078.55 ],\n",
       "       [14974.718],\n",
       "       [27536.104],\n",
       "       [22283.508],\n",
       "       [39974.805],\n",
       "       [54965.582],\n",
       "       [28913.543],\n",
       "       [19952.11 ],\n",
       "       [61657.914],\n",
       "       [42516.535],\n",
       "       [17579.54 ],\n",
       "       [29729.258],\n",
       "       [48788.41 ],\n",
       "       [49705.07 ],\n",
       "       [16962.89 ],\n",
       "       [46835.688],\n",
       "       [21279.258],\n",
       "       [57018.793],\n",
       "       [11296.231],\n",
       "       [33756.355],\n",
       "       [52571.938],\n",
       "       [29227.883],\n",
       "       [ 8797.213],\n",
       "       [63881.29 ],\n",
       "       [68558.2  ],\n",
       "       [59902.805],\n",
       "       [32291.645],\n",
       "       [20252.582],\n",
       "       [60334.312],\n",
       "       [40555.34 ],\n",
       "       [20197.928],\n",
       "       [12270.763],\n",
       "       [32533.098],\n",
       "       [ 8395.339],\n",
       "       [59910.34 ],\n",
       "       [69083.11 ],\n",
       "       [58857.96 ],\n",
       "       [26601.46 ],\n",
       "       [41146.05 ],\n",
       "       [70727.39 ],\n",
       "       [51602.555],\n",
       "       [40653.773],\n",
       "       [10368.968],\n",
       "       [50719.95 ],\n",
       "       [24458.037],\n",
       "       [53526.76 ],\n",
       "       [37175.656],\n",
       "       [22059.016],\n",
       "       [38900.207],\n",
       "       [44909.094],\n",
       "       [47358.758],\n",
       "       [37165.03 ],\n",
       "       [28981.598],\n",
       "       [34618.14 ],\n",
       "       [34157.16 ],\n",
       "       [51589.332],\n",
       "       [38465.79 ],\n",
       "       [56040.98 ],\n",
       "       [16514.598],\n",
       "       [10511.757],\n",
       "       [56293.582],\n",
       "       [29533.523],\n",
       "       [69601.58 ],\n",
       "       [28539.502],\n",
       "       [66902.65 ],\n",
       "       [30312.84 ],\n",
       "       [33523.043],\n",
       "       [55908.3  ],\n",
       "       [40298.883],\n",
       "       [11290.52 ],\n",
       "       [22226.31 ],\n",
       "       [69605.55 ],\n",
       "       [50895.3  ],\n",
       "       [47318.71 ],\n",
       "       [47296.645],\n",
       "       [20390.3  ],\n",
       "       [68978.625],\n",
       "       [36992.86 ],\n",
       "       [62533.703],\n",
       "       [48848.01 ],\n",
       "       [50657.168],\n",
       "       [26613.766],\n",
       "       [50031.69 ],\n",
       "       [12055.377],\n",
       "       [11659.969],\n",
       "       [35907.277],\n",
       "       [35561.25 ],\n",
       "       [69366.38 ],\n",
       "       [24936.781],\n",
       "       [14854.948],\n",
       "       [31272.078],\n",
       "       [27334.023],\n",
       "       [54928.14 ],\n",
       "       [33579.223],\n",
       "       [60817.164],\n",
       "       [19312.896],\n",
       "       [34765.367],\n",
       "       [69249.56 ],\n",
       "       [51698.48 ],\n",
       "       [52633.953],\n",
       "       [59130.176],\n",
       "       [11539.142],\n",
       "       [37378.86 ],\n",
       "       [60461.41 ],\n",
       "       [42660.02 ],\n",
       "       [45275.508],\n",
       "       [64879.527],\n",
       "       [47987.785],\n",
       "       [37313.816],\n",
       "       [50057.37 ],\n",
       "       [26619.465],\n",
       "       [64037.074],\n",
       "       [48779.594],\n",
       "       [35102.63 ],\n",
       "       [71547.32 ],\n",
       "       [56602.465],\n",
       "       [30329.15 ],\n",
       "       [ 8963.72 ],\n",
       "       [31459.217],\n",
       "       [ 9293.435],\n",
       "       [21314.162],\n",
       "       [53581.95 ],\n",
       "       [24677.607],\n",
       "       [33144.297],\n",
       "       [48412.355],\n",
       "       [63263.07 ],\n",
       "       [30188.982],\n",
       "       [24373.55 ],\n",
       "       [29180.332],\n",
       "       [64914.633],\n",
       "       [59832.02 ],\n",
       "       [31678.104],\n",
       "       [49687.59 ],\n",
       "       [22641.219],\n",
       "       [19550.697],\n",
       "       [69691.59 ],\n",
       "       [49371.05 ],\n",
       "       [54667.684],\n",
       "       [12802.966],\n",
       "       [48054.746],\n",
       "       [13156.346],\n",
       "       [63958.766],\n",
       "       [17743.967],\n",
       "       [21462.945],\n",
       "       [29303.342],\n",
       "       [32386.45 ],\n",
       "       [52089.082],\n",
       "       [22895.873],\n",
       "       [18273.59 ],\n",
       "       [35533.637],\n",
       "       [58556.844],\n",
       "       [17265.613]], dtype=float32)"
      ]
     },
     "execution_count": 16,
     "metadata": {},
     "output_type": "execute_result"
    }
   ],
   "source": [
    "predictions = model.predict(X_test)\n",
    "predictions"
   ]
  },
  {
   "cell_type": "code",
   "execution_count": 17,
   "id": "b0036fa5-146c-48de-8083-4d24e6966a8e",
   "metadata": {},
   "outputs": [
    {
     "data": {
      "image/png": "[encoded data removed]",
      "text/plain": [
       "<Figure size 640x480 with 1 Axes>"
      ]
     },
     "metadata": {},
     "output_type": "display_data"
    }
   ],
   "source": [
    "plt.scatter(y_test, predictions)\n",
    "plt.xlabel('True Energy Consumption')\n",
    "plt.ylabel('Predicted Energy Consumption')\n",
    "plt.title('Predictions vs True Values')\n",
    "plt.show()"
   ]
  },
  {
   "cell_type": "code",
   "execution_count": null,
   "id": "4c5adc88-6838-4018-80e5-f146832ca010",
   "metadata": {},
   "outputs": [],
   "source": []
  }
 ],
 "metadata": {
  "kernelspec": {
   "display_name": "Python [conda env:base] *",
   "language": "python",
   "name": "conda-base-py"
  },
  "language_info": {
   "codemirror_mode": {
    "name": "ipython",
    "version": 3
   },
   "file_extension": ".py",
   "mimetype": "text/x-python",
   "name": "python",
   "nbconvert_exporter": "python",
   "pygments_lexer": "ipython3",
   "version": "3.12.7"
  }
 },
 "nbformat": 4,
 "nbformat_minor": 5
}
